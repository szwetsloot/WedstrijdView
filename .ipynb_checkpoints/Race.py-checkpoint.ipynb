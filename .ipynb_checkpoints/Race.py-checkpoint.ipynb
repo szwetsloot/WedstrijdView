{
 "cells": [
  {
   "cell_type": "code",
   "execution_count": null,
   "metadata": {
    "collapsed": true
   },
   "outputs": [],
   "source": [
    "\n",
    "\n",
    "class Race:\n",
    "    \n",
    "    race_status = 0;\n",
    "    Con;\n",
    "    \n",
    "    def __init__(self, Con):\n",
    "        self.Con = Con;\n",
    "        \n",
    "    def get_race_status(self):\n",
    "        return self.race_status;\n",
    "    \n",
    "    def get_next_race(self):\n",
    "        time = Con.get_next_heat();"
   ]
  }
 ],
 "metadata": {
  "kernelspec": {
   "display_name": "Python 3",
   "language": "python",
   "name": "python3"
  },
  "language_info": {
   "codemirror_mode": {
    "name": "ipython",
    "version": 3
   },
   "file_extension": ".py",
   "mimetype": "text/x-python",
   "name": "python",
   "nbconvert_exporter": "python",
   "pygments_lexer": "ipython3",
   "version": "3.5.1"
  }
 },
 "nbformat": 4,
 "nbformat_minor": 0
}
